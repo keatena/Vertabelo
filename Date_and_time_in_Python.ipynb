{
 "cells": [
  {
   "cell_type": "markdown",
   "metadata": {},
   "source": [
    "# How to work with date and time in Python?"
   ]
  },
  {
   "cell_type": "code",
   "execution_count": 1,
   "metadata": {},
   "outputs": [],
   "source": [
    "# Starting with the required imports\n",
    "from datetime import datetime, date, time, timedelta"
   ]
  },
  {
   "cell_type": "markdown",
   "metadata": {},
   "source": [
    "## Current date and time"
   ]
  },
  {
   "cell_type": "code",
   "execution_count": 4,
   "metadata": {},
   "outputs": [
    {
     "name": "stdout",
     "output_type": "stream",
     "text": [
      "Today's date is  2019-02-22\n",
      "\n",
      " Year: 2019 \n",
      " Month: 2 \n",
      " Day: 22 \n",
      " Weekday: 4 \n",
      " Weekday (name): Friday\n"
     ]
    }
   ],
   "source": [
    "# Getting current date\n",
    "today = date.today()\n",
    "days = [\"Monday\", \"Tuesday\", \"Wednesday\", \"Thursday\", \"Friday\", \"Saturday\", \"Sunday\"]\n",
    "print (\"Today's date is \", today)\n",
    "print (\"\\n\", \"Year:\", today.year,\n",
    "       \"\\n\", \"Month:\", today.month, \n",
    "       \"\\n\",\"Day:\", today.day, \n",
    "       \"\\n\",\"Weekday:\", today.weekday(),\n",
    "       \"\\n\",\"Weekday (name):\", days[today.weekday()])"
   ]
  },
  {
   "cell_type": "code",
   "execution_count": 6,
   "metadata": {},
   "outputs": [
    {
     "name": "stdout",
     "output_type": "stream",
     "text": [
      "It's 2019-02-23 13:10:12.387096 now.\n",
      "\n",
      " Time: 13:10:12.387096 \n",
      " Hour: 13 \n",
      " Minute: 10 \n",
      " Second: 12 \n",
      " Microsecond: 387096\n"
     ]
    }
   ],
   "source": [
    "# Getting current time\n",
    "time = datetime.now()\n",
    "print(\"It's\", time, \"now.\")\n",
    "print (\"\\n\", \"Time:\", datetime.time(time),\n",
    "       \"\\n\", \"Hour:\", time.hour, \n",
    "       \"\\n\",\"Minute:\", time.minute, \n",
    "       \"\\n\",\"Second:\", time.second,\n",
    "       \"\\n\",\"Microsecond:\", time.microsecond)"
   ]
  },
  {
   "cell_type": "markdown",
   "metadata": {},
   "source": [
    "## Creating datetime object"
   ]
  },
  {
   "cell_type": "code",
   "execution_count": 15,
   "metadata": {},
   "outputs": [
    {
     "name": "stdout",
     "output_type": "stream",
     "text": [
      "Einstein's birthday is on 1879-03-14.\n"
     ]
    }
   ],
   "source": [
    "# Creating date object\n",
    "einstein_birthday = date(1879, 3, 14)\n",
    "print ('Einstein\\'s birthday is on {}.'.format(einstein_birthday))"
   ]
  },
  {
   "cell_type": "code",
   "execution_count": 17,
   "metadata": {},
   "outputs": [
    {
     "name": "stdout",
     "output_type": "stream",
     "text": [
      "Einstein was born on 1879-03-14 08:34:55.002345.\n"
     ]
    }
   ],
   "source": [
    "# Creating datetime object\n",
    "einstein_birthtime = datetime(1879, 3, 14, 8, 34, 55, 2345)\n",
    "print ('Einstein was born on {}.'.format(einstein_birthtime))"
   ]
  },
  {
   "cell_type": "code",
   "execution_count": 18,
   "metadata": {},
   "outputs": [
    {
     "name": "stdout",
     "output_type": "stream",
     "text": [
      "Einstein's birthday is on 1879-03-14 00:00:00.\n"
     ]
    }
   ],
   "source": [
    "einstein_birthday = datetime(1879, 3, 14)\n",
    "print ('Einstein\\'s birthday is on {}.'.format(einstein_birthday))"
   ]
  },
  {
   "cell_type": "markdown",
   "metadata": {},
   "source": [
    "## Comparing datetime objects"
   ]
  },
  {
   "cell_type": "code",
   "execution_count": 19,
   "metadata": {},
   "outputs": [],
   "source": [
    "# Comparing times\n",
    "einstein_birthtime = datetime(1879, 3, 14, 8, 34, 55, 2345)\n",
    "newton_birthtime = datetime(1643, 1, 4, 15, 55, 4, 15432)\n",
    "hawking_birthtime = datetime(1942, 1, 8, 22, 13, 43, 78432)"
   ]
  },
  {
   "cell_type": "code",
   "execution_count": 20,
   "metadata": {},
   "outputs": [
    {
     "data": {
      "text/plain": [
       "True"
      ]
     },
     "execution_count": 20,
     "metadata": {},
     "output_type": "execute_result"
    }
   ],
   "source": [
    "einstein_birthtime > newton_birthtime"
   ]
  },
  {
   "cell_type": "code",
   "execution_count": 21,
   "metadata": {},
   "outputs": [
    {
     "data": {
      "text/plain": [
       "False"
      ]
     },
     "execution_count": 21,
     "metadata": {},
     "output_type": "execute_result"
    }
   ],
   "source": [
    "hawking_birthtime < einstein_birthtime"
   ]
  },
  {
   "cell_type": "code",
   "execution_count": 22,
   "metadata": {},
   "outputs": [],
   "source": [
    "einstein_birthday = datetime(1879, 3, 14)\n",
    "newton_birthday = datetime(1643, 1, 4)\n",
    "hawking_birthday = datetime(1942, 1, 8)"
   ]
  },
  {
   "cell_type": "code",
   "execution_count": 23,
   "metadata": {},
   "outputs": [
    {
     "data": {
      "text/plain": [
       "True"
      ]
     },
     "execution_count": 23,
     "metadata": {},
     "output_type": "execute_result"
    }
   ],
   "source": [
    "einstein_birthday > newton_birthday"
   ]
  },
  {
   "cell_type": "markdown",
   "metadata": {},
   "source": [
    "## Timedelta objects"
   ]
  },
  {
   "cell_type": "code",
   "execution_count": 33,
   "metadata": {},
   "outputs": [
    {
     "name": "stdout",
     "output_type": "stream",
     "text": [
      "86266 days, 0:00:00\n",
      "Einstein was born 236 years later than Newton.\n"
     ]
    }
   ],
   "source": [
    "# Calculating the difference between two dates\n",
    "delta = einstein_birthday - newton_birthday\n",
    "print (delta)\n",
    "print ('Einstein was born {} years later than Newton.'.format(round(delta.days/365)))"
   ]
  },
  {
   "cell_type": "code",
   "execution_count": 35,
   "metadata": {},
   "outputs": [
    {
     "name": "stdout",
     "output_type": "stream",
     "text": [
      "86265 days, 16:39:50.986913\n"
     ]
    }
   ],
   "source": [
    "delta_time = einstein_birthtime - newton_birthtime\n",
    "print(delta_time)"
   ]
  },
  {
   "cell_type": "code",
   "execution_count": 46,
   "metadata": {},
   "outputs": [
    {
     "name": "stdout",
     "output_type": "stream",
     "text": [
      "-4848 days, 0:00:00\n"
     ]
    }
   ],
   "source": [
    "# Calculating the difference between two dates with a negative result\n",
    "einstein_death = datetime(1955, 4, 18)\n",
    "hawking_birthday = datetime(1942, 1, 8)\n",
    "delta = hawking_birthday - einstein_death\n",
    "print(delta)"
   ]
  },
  {
   "cell_type": "code",
   "execution_count": 51,
   "metadata": {},
   "outputs": [
    {
     "name": "stdout",
     "output_type": "stream",
     "text": [
      "Einstein was born 100 days after 1878-12-04 00:00:00.\n"
     ]
    }
   ],
   "source": [
    "# Calculating the date 100 days before Einstein's birth\n",
    "einstein_100days_before = einstein_birthday + timedelta(days=-100)\n",
    "print ('Einstein was born 100 days after {}.'.format(einstein_100days_before))"
   ]
  },
  {
   "cell_type": "code",
   "execution_count": 50,
   "metadata": {},
   "outputs": [
    {
     "name": "stdout",
     "output_type": "stream",
     "text": [
      "Einstein was 4 weeks old on 1879-04-11 00:00:00.\n"
     ]
    }
   ],
   "source": [
    "# Calculating the date 4 weeks after Einstein's birth\n",
    "einstein_4weeks_after = einstein_birthday + timedelta(weeks=4)\n",
    "print ('Einstein was 4 weeks old on {}.'.format(einstein_4weeks_after))"
   ]
  },
  {
   "cell_type": "markdown",
   "metadata": {},
   "source": [
    "## Formatting datetime objects"
   ]
  },
  {
   "cell_type": "code",
   "execution_count": 59,
   "metadata": {},
   "outputs": [
    {
     "name": "stdout",
     "output_type": "stream",
     "text": [
      "Einstein was born on 1879-03-14 00:00:00.\n",
      "Einstein was born on Mar 14, 1879.\n",
      "Einstein was born on Fri, March 14, 1879.\n",
      "Einstein was born on Friday, March 14, 1879.\n",
      "Einstein was born on 14.03.1879.\n",
      "Einstein was born on 14/03/79.\n"
     ]
    }
   ],
   "source": [
    "# Formatting a date object\n",
    "einstein_birthday = datetime(1879, 3, 14)\n",
    "print ('Einstein was born on {}.'.format(einstein_birthday))\n",
    "print ('Einstein was born on {}.'.format(einstein_birthday.strftime('%b %d, %Y')))\n",
    "print ('Einstein was born on {}.'.format(einstein_birthday.strftime('%a, %B %d, %Y')))\n",
    "print ('Einstein was born on {}.'.format(einstein_birthday.strftime('%A, %B %d, %Y')))\n",
    "print ('Einstein was born on {}.'.format(einstein_birthday.strftime('%d.%m.%Y')))\n",
    "print ('Einstein was born on {}.'.format(einstein_birthday.strftime('%d/%m/%y')))"
   ]
  },
  {
   "cell_type": "code",
   "execution_count": 2,
   "metadata": {},
   "outputs": [
    {
     "name": "stdout",
     "output_type": "stream",
     "text": [
      "Meeting starts at 20:30:00.\n",
      "Meeting starts at 20:30.\n",
      "Meeting starts at 08:30 PM.\n"
     ]
    }
   ],
   "source": [
    "# Formatting a time object\n",
    "meeting_time = datetime.time(datetime (2019, 3, 25, 20, 30))\n",
    "print ('Meeting starts at {}.'.format(meeting_time))\n",
    "print ('Meeting starts at {}.'.format(meeting_time.strftime('%H:%M')))\n",
    "print ('Meeting starts at {}.'.format(meeting_time.strftime('%I:%M %p')))"
   ]
  },
  {
   "cell_type": "markdown",
   "metadata": {},
   "source": [
    "## Converting strings to datetime objects"
   ]
  },
  {
   "cell_type": "code",
   "execution_count": 63,
   "metadata": {},
   "outputs": [
    {
     "name": "stdout",
     "output_type": "stream",
     "text": [
      "2019-03-25 00:00:00\n"
     ]
    }
   ],
   "source": [
    "# Converting strings to dates\n",
    "date = datetime.strptime('March 25, 2019', '%B %d, %Y')\n",
    "print(date)"
   ]
  },
  {
   "cell_type": "code",
   "execution_count": null,
   "metadata": {},
   "outputs": [],
   "source": []
  }
 ],
 "metadata": {
  "kernelspec": {
   "display_name": "Python 3",
   "language": "python",
   "name": "python3"
  },
  "language_info": {
   "codemirror_mode": {
    "name": "ipython",
    "version": 3
   },
   "file_extension": ".py",
   "mimetype": "text/x-python",
   "name": "python",
   "nbconvert_exporter": "python",
   "pygments_lexer": "ipython3",
   "version": "3.6.4"
  }
 },
 "nbformat": 4,
 "nbformat_minor": 2
}
